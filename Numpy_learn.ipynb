{
  "nbformat": 4,
  "nbformat_minor": 0,
  "metadata": {
    "colab": {
      "provenance": [],
      "authorship_tag": "ABX9TyOiI10aoDjSlstK17vmm1AS",
      "include_colab_link": true
    },
    "kernelspec": {
      "name": "python3",
      "display_name": "Python 3"
    },
    "language_info": {
      "name": "python"
    }
  },
  "cells": [
    {
      "cell_type": "markdown",
      "metadata": {
        "id": "view-in-github",
        "colab_type": "text"
      },
      "source": [
        "<a href=\"https://colab.research.google.com/github/Anandxz/Machine-Learning/blob/main/Numpy_learn.ipynb\" target=\"_parent\"><img src=\"https://colab.research.google.com/assets/colab-badge.svg\" alt=\"Open In Colab\"/></a>"
      ]
    },
    {
      "cell_type": "code",
      "source": [
        "import numpy as np"
      ],
      "metadata": {
        "id": "g_47L85Scg-t"
      },
      "execution_count": 2,
      "outputs": []
    },
    {
      "cell_type": "markdown",
      "source": [
        "ARRAY CREATION"
      ],
      "metadata": {
        "id": "L_m0bHJXjGoP"
      }
    },
    {
      "cell_type": "code",
      "source": [
        "arr1d=np.array([1,2,3,4,5])\n",
        "arr2d=np.array([[1,2,3],[4,5,6],[7,8,9]])"
      ],
      "metadata": {
        "id": "O4qzsgOgjEmb"
      },
      "execution_count": 3,
      "outputs": []
    },
    {
      "cell_type": "code",
      "source": [
        "print(\"1D ARRAY:\",arr1d)"
      ],
      "metadata": {
        "colab": {
          "base_uri": "https://localhost:8080/"
        },
        "id": "1n8uEs6LjhDJ",
        "outputId": "08b4e27f-938c-4828-d4e1-d6c5eb78b761"
      },
      "execution_count": 4,
      "outputs": [
        {
          "output_type": "stream",
          "name": "stdout",
          "text": [
            "1D ARRAY: [1 2 3 4 5]\n"
          ]
        }
      ]
    },
    {
      "cell_type": "code",
      "source": [
        "print(\"2D ARRAY\",arr2d)"
      ],
      "metadata": {
        "colab": {
          "base_uri": "https://localhost:8080/"
        },
        "id": "moGSMnpsjpR6",
        "outputId": "1e93e13b-7c5e-44c5-c1a7-851d74517eb1"
      },
      "execution_count": 5,
      "outputs": [
        {
          "output_type": "stream",
          "name": "stdout",
          "text": [
            "2D ARRAY [[1 2 3]\n",
            " [4 5 6]\n",
            " [7 8 9]]\n"
          ]
        }
      ]
    },
    {
      "cell_type": "code",
      "source": [
        "print(\"Array Shape\",arr1d.shape)"
      ],
      "metadata": {
        "colab": {
          "base_uri": "https://localhost:8080/"
        },
        "id": "v5-tzTCJjwhX",
        "outputId": "0a74f8f2-7f85-41ce-b138-92f8faf626d7"
      },
      "execution_count": 6,
      "outputs": [
        {
          "output_type": "stream",
          "name": "stdout",
          "text": [
            "Array Shape (5,)\n"
          ]
        }
      ]
    },
    {
      "cell_type": "code",
      "source": [
        "print(\"Array Shape\",arr1d.dtype)"
      ],
      "metadata": {
        "colab": {
          "base_uri": "https://localhost:8080/"
        },
        "id": "X9eETiM3j6Zs",
        "outputId": "499c36d1-18f2-4938-a0ac-fa1e4631c97f"
      },
      "execution_count": 7,
      "outputs": [
        {
          "output_type": "stream",
          "name": "stdout",
          "text": [
            "Array Shape int64\n"
          ]
        }
      ]
    },
    {
      "cell_type": "code",
      "source": [
        "print(\"Array Shape\",arr2d.shape)"
      ],
      "metadata": {
        "colab": {
          "base_uri": "https://localhost:8080/"
        },
        "id": "O_YirkoCkCta",
        "outputId": "564bd615-3f1a-46f1-a554-3b4936d007eb"
      },
      "execution_count": 8,
      "outputs": [
        {
          "output_type": "stream",
          "name": "stdout",
          "text": [
            "Array Shape (3, 3)\n"
          ]
        }
      ]
    },
    {
      "cell_type": "markdown",
      "source": [
        "Creating Arrys with built-in function\n"
      ],
      "metadata": {
        "id": "DCiu9IBHkOCO"
      }
    },
    {
      "cell_type": "code",
      "source": [
        "zeros=np.zeros((3,4)) #3*3 array of zeros\n",
        "ones=np.ones((2,3))\n",
        "range_arr=np.arange(0,10,2)\n",
        "linspace_arr=np.linspace(0,0.5,3)\n",
        "print(\"\\nZeros array:\\n\", zeros)\n",
        "print(\"\\nOnes array:\\n\", ones)\n",
        "print(\"Range array:\", range_arr)\n",
        "print(\"Linspace array:\", linspace_arr) # 5 evenly spaced values from 0 to 1"
      ],
      "metadata": {
        "colab": {
          "base_uri": "https://localhost:8080/"
        },
        "id": "niSk8hgwkHqk",
        "outputId": "8e13b881-07d8-4049-b64d-da57a3f8a55b"
      },
      "execution_count": 15,
      "outputs": [
        {
          "output_type": "stream",
          "name": "stdout",
          "text": [
            "\n",
            "Zeros array:\n",
            " [[0. 0. 0. 0.]\n",
            " [0. 0. 0. 0.]\n",
            " [0. 0. 0. 0.]]\n",
            "\n",
            "Ones array:\n",
            " [[1. 1. 1.]\n",
            " [1. 1. 1.]]\n",
            "Range array: [0 2 4 6 8]\n",
            "Linspace array: [0.   0.25 0.5 ]\n"
          ]
        }
      ]
    },
    {
      "cell_type": "markdown",
      "source": [
        "#BASIC OPERATION\n"
      ],
      "metadata": {
        "id": "KXpAjLdBmD_d"
      }
    },
    {
      "cell_type": "markdown",
      "source": [
        "# Element-wise arithmetic operations"
      ],
      "metadata": {
        "id": "ozQLpuMAmNLW"
      }
    },
    {
      "cell_type": "code",
      "source": [
        "a=np.array([1,2,3,4])"
      ],
      "metadata": {
        "id": "NsX_9mxEmE9l"
      },
      "execution_count": 25,
      "outputs": []
    },
    {
      "cell_type": "code",
      "source": [
        "b=np.array([5,6,7,8])"
      ],
      "metadata": {
        "id": "b8J6-Gj0mDmR"
      },
      "execution_count": 26,
      "outputs": []
    },
    {
      "cell_type": "code",
      "source": [
        "print(\"---Basic Operations---\")\n",
        "print(\"a=\",a)\n",
        "print(\"b=\",b)\n",
        "print(\"a+b=\",a+b)\n",
        "print(\"a * b =\", a * b)  # Element-wise multiplication\n",
        "print(\"a ** 2 =\", a ** 2)"
      ],
      "metadata": {
        "colab": {
          "base_uri": "https://localhost:8080/"
        },
        "id": "SevD7b9gliOx",
        "outputId": "08cbe87e-8a69-4922-90a7-bafed8701873"
      },
      "execution_count": 27,
      "outputs": [
        {
          "output_type": "stream",
          "name": "stdout",
          "text": [
            "---Basic Operations---\n",
            "a= [1 2 3 4]\n",
            "b= [5 6 7 8]\n",
            "a+b= [ 6  8 10 12]\n",
            "a * b = [ 5 12 21 32]\n",
            "a ** 2 = [ 1  4  9 16]\n"
          ]
        }
      ]
    },
    {
      "cell_type": "markdown",
      "source": [
        "# Broadcasting - operations with different shapes"
      ],
      "metadata": {
        "id": "vw0p6CWVnMkl"
      }
    },
    {
      "cell_type": "code",
      "source": [
        "matrix=np.array([[1,2,3],[4,5,6]])\n",
        "scalar=10\n",
        "vector=np.array([1,2,3])"
      ],
      "metadata": {
        "id": "7S5r4FMknJry"
      },
      "execution_count": 33,
      "outputs": []
    },
    {
      "cell_type": "code",
      "source": [
        "print(\"\\nMatrix:\\n\", matrix)\n",
        "print(\"Matrix + scalar:\\n\", matrix + scalar)  # Adds 10 to each element\n",
        "print(\"Matrix + vector:\\n\", matrix + vector)  # Adds vector to each row\n"
      ],
      "metadata": {
        "colab": {
          "base_uri": "https://localhost:8080/"
        },
        "id": "dtMuR3Cynngl",
        "outputId": "381e131a-c55d-41e4-abd9-5fe0e436411d"
      },
      "execution_count": 34,
      "outputs": [
        {
          "output_type": "stream",
          "name": "stdout",
          "text": [
            "\n",
            "Matrix:\n",
            " [[1 2 3]\n",
            " [4 5 6]]\n",
            "Matrix + scalar:\n",
            " [[11 12 13]\n",
            " [14 15 16]]\n",
            "Matrix + vector:\n",
            " [[2 4 6]\n",
            " [5 7 9]]\n"
          ]
        }
      ]
    },
    {
      "cell_type": "code",
      "source": [
        "data = np.array([1, 4, 9, 16, 25])\n",
        "print(\"\\nSquare roots:\", np.sqrt(data))\n",
        "print(\"Natural log:\", np.log(data))\n",
        "print(\"Sine values:\", np.sin(np.pi * np.array([0, 0.5, 1])))\n"
      ],
      "metadata": {
        "colab": {
          "base_uri": "https://localhost:8080/"
        },
        "id": "bUIPH87Ln1o3",
        "outputId": "b66436c6-99bb-49ae-a061-73d89c51c078"
      },
      "execution_count": 35,
      "outputs": [
        {
          "output_type": "stream",
          "name": "stdout",
          "text": [
            "\n",
            "Square roots: [1. 2. 3. 4. 5.]\n",
            "Natural log: [0.         1.38629436 2.19722458 2.77258872 3.21887582]\n",
            "Sine values: [0.0000000e+00 1.0000000e+00 1.2246468e-16]\n"
          ]
        }
      ]
    },
    {
      "cell_type": "markdown",
      "source": [
        "#Aggreagation Function"
      ],
      "metadata": {
        "id": "VbtAylTZqktQ"
      }
    },
    {
      "cell_type": "code",
      "source": [
        "matrix_2d=np.array([[1,2,3],[4,5,6],[7,8,9]])"
      ],
      "metadata": {
        "id": "RWT_yz1uqkAx"
      },
      "execution_count": 36,
      "outputs": []
    },
    {
      "cell_type": "code",
      "source": [
        "print(\"---Aggregation Functions---\")\n",
        "print(\"Matrix:\\n\", matrix_2d)\n",
        "print(\"\\nSum of all array\\n\",np.sum(matrix_2d))\n",
        "print(\"\\nSum along axis 0(coloumn)\\n\",np.sum(matrix_2d,axis=0))\n",
        "print(\"\\nSum along axis 1\\n\",np.sum(matrix_2d,axis=1))\n",
        "print(\"\\nMean\\n\",np.mean(matrix_2d))\n",
        "print(\"\\n Standerd Deviation \\n\",np.std(matrix_2d))\n",
        "print(\"\\nVariance\\n\",np.var(matrix_2d))\n",
        "print(\"\\nMax value\\n\",np.max(matrix_2d))\n",
        "print(\"\\nMin value\\n\",np.min(matrix_2d))\n",
        "print(\"\\nMax value index\\n\",np.argmax(matrix_2d))\n",
        "print(\"\\nMin value index\\n\",np.argmin(matrix_2d))\n",
        "print(\"\\nCumulative sum\\n\",np.cumsum(matrix_2d))\n",
        "print(\"\\nCumulative product\\n\",np.cumprod(matrix_2d))"
      ],
      "metadata": {
        "colab": {
          "base_uri": "https://localhost:8080/"
        },
        "id": "VY73c_qRoFku",
        "outputId": "81a48526-efe0-449a-a551-92926a30dfec"
      },
      "execution_count": 37,
      "outputs": [
        {
          "output_type": "stream",
          "name": "stdout",
          "text": [
            "---Aggregation Functions---\n",
            "Matrix:\n",
            " [[1 2 3]\n",
            " [4 5 6]\n",
            " [7 8 9]]\n",
            "\n",
            "Sum of all array\n",
            " 45\n",
            "\n",
            "Sum along axis 0(coloumn)\n",
            " [12 15 18]\n",
            "\n",
            "Sum along axis 1\n",
            " [ 6 15 24]\n",
            "\n",
            "Mean\n",
            " 5.0\n",
            "\n",
            " Standerd Deviation \n",
            " 2.581988897471611\n",
            "\n",
            "Variance\n",
            " 6.666666666666667\n",
            "\n",
            "Max value\n",
            " 9\n",
            "\n",
            "Min value\n",
            " 1\n",
            "\n",
            "Max value index\n",
            " 8\n",
            "\n",
            "Min value index\n",
            " 0\n",
            "\n",
            "Cumulative sum\n",
            " [ 1  3  6 10 15 21 28 36 45]\n",
            "\n",
            "Cumulative product\n",
            " [     1      2      6     24    120    720   5040  40320 362880]\n"
          ]
        }
      ]
    },
    {
      "cell_type": "markdown",
      "source": [
        "#Indexing & Sum\n"
      ],
      "metadata": {
        "id": "BTWvwIjgsbVC"
      }
    },
    {
      "cell_type": "code",
      "source": [
        "# 1D array indexing\n",
        "arr = np.array([10, 20, 30, 40, 50])\n",
        "print(\"\\n--- 1D Indexing ---\")\n",
        "print(\"Array:\", arr)\n",
        "print(\"First element:\", arr[0])\n",
        "print(\"Last element:\", arr[-1])\n",
        "print(\"Slice [1:4]:\", arr[1:4])  # Elements at indices 1, 2, 3\n",
        "print(\"Every other element:\", arr[::2])"
      ],
      "metadata": {
        "colab": {
          "base_uri": "https://localhost:8080/"
        },
        "id": "8d2emIHQsGqa",
        "outputId": "4af5e5a9-8570-43e7-86a1-bb3a656de40b"
      },
      "execution_count": 38,
      "outputs": [
        {
          "output_type": "stream",
          "name": "stdout",
          "text": [
            "\n",
            "--- 1D Indexing ---\n",
            "Array: [10 20 30 40 50]\n",
            "First element: 10\n",
            "Last element: 50\n",
            "Slice [1:4]: [20 30 40]\n",
            "Every other element: [10 30 50]\n"
          ]
        }
      ]
    },
    {
      "cell_type": "code",
      "source": [
        "# 2D array indexing\n",
        "matrix = np.array([[1, 2, 3, 4],\n",
        "                   [5, 6, 7, 8],\n",
        "                   [9, 10, 11, 12]])"
      ],
      "metadata": {
        "id": "X4gyNIecsvVY"
      },
      "execution_count": 39,
      "outputs": []
    },
    {
      "cell_type": "code",
      "source": [
        "print(\"\\n--- 2D Indexing ---\")\n",
        "print(\"Matrix:\\n\", matrix)\n",
        "print(\"Element at (1,2):\", matrix[1, 2])  # Row 1, Column 2\n",
        "print(\"First row:\", matrix[0, :])\n",
        "print(\"Second column:\", matrix[:, 1])\n",
        "print(\"Submatrix [1:2, 1:3]:\\n\", matrix[0:2, 0:3])"
      ],
      "metadata": {
        "colab": {
          "base_uri": "https://localhost:8080/"
        },
        "id": "GAZdpwCRtIZ1",
        "outputId": "debe6137-4d19-4b20-acff-f076e7b5aad6"
      },
      "execution_count": 48,
      "outputs": [
        {
          "output_type": "stream",
          "name": "stdout",
          "text": [
            "\n",
            "--- 2D Indexing ---\n",
            "Matrix:\n",
            " [[ 1  2  3  4]\n",
            " [ 5  6  7  8]\n",
            " [ 9 10 11 12]]\n",
            "Element at (1,2): 7\n",
            "First row: [1 2 3 4]\n",
            "Second column: [ 2  6 10]\n",
            "Submatrix [1:2, 1:3]:\n",
            " [[1 2 3]\n",
            " [5 6 7]]\n"
          ]
        }
      ]
    },
    {
      "cell_type": "code",
      "source": [
        "# Fancy indexing (using arrays of indices)\n",
        "arr = np.array([10, 20, 30, 40, 50])\n",
        "indices = np.array([1, 3, 4])\n",
        "print(\"\\n--- Fancy Indexing ---\")\n",
        "print(\"Array:\", arr)\n",
        "print(\"Elements at indices [1,3,4]:\", arr[indices])"
      ],
      "metadata": {
        "colab": {
          "base_uri": "https://localhost:8080/"
        },
        "id": "gKZgfnXztyVu",
        "outputId": "5b5a56c2-edbb-44fd-ccf2-496967d6bdea"
      },
      "execution_count": 49,
      "outputs": [
        {
          "output_type": "stream",
          "name": "stdout",
          "text": [
            "\n",
            "--- Fancy Indexing ---\n",
            "Array: [10 20 30 40 50]\n",
            "Elements at indices [1,3,4]: [20 40 50]\n"
          ]
        }
      ]
    },
    {
      "cell_type": "code",
      "source": [
        "# 2D fancy indexing\n",
        "matrix = np.array([[1, 2], [3, 4], [5, 6]])\n",
        "row_indices = np.array([0, 2])\n",
        "col_indices = np.array([1, 0])\n",
        "print(\"Matrix:\\n\", matrix)\n",
        "print(\"Fancy indexing result:\", matrix[row_indices, col_indices])  # (0,1) and (2,0)"
      ],
      "metadata": {
        "colab": {
          "base_uri": "https://localhost:8080/"
        },
        "id": "7O7TdzftwJuq",
        "outputId": "3c94499d-44d7-4981-c312-cfe758f9a98e"
      },
      "execution_count": 50,
      "outputs": [
        {
          "output_type": "stream",
          "name": "stdout",
          "text": [
            "Matrix:\n",
            " [[1 2]\n",
            " [3 4]\n",
            " [5 6]]\n",
            "Fancy indexing result: [2 5]\n"
          ]
        }
      ]
    },
    {
      "cell_type": "code",
      "source": [
        "# Reshaping arrays\n",
        "original = np.arange(12)\n",
        "reshaped = original.reshape(3, 4)\n",
        "print(\"\\n--- Shape Manipulation ---\")\n",
        "print(\"Original (12,):\", original)\n",
        "print(\"Reshaped (3,4):\\n\", reshaped)\n",
        "print(\"Flattened:\", reshaped.flatten())"
      ],
      "metadata": {
        "colab": {
          "base_uri": "https://localhost:8080/"
        },
        "id": "B6G9U2KywiLD",
        "outputId": "faef6aae-6cdc-44ca-c14c-6dbdce92aa78"
      },
      "execution_count": 51,
      "outputs": [
        {
          "output_type": "stream",
          "name": "stdout",
          "text": [
            "\n",
            "--- Shape Manipulation ---\n",
            "Original (12,): [ 0  1  2  3  4  5  6  7  8  9 10 11]\n",
            "Reshaped (3,4):\n",
            " [[ 0  1  2  3]\n",
            " [ 4  5  6  7]\n",
            " [ 8  9 10 11]]\n",
            "Flattened: [ 0  1  2  3  4  5  6  7  8  9 10 11]\n"
          ]
        }
      ]
    },
    {
      "cell_type": "code",
      "source": [
        "# Transpose\n",
        "matrix = np.array([[1, 2, 3], [4, 5, 6]])\n",
        "print(\"Original matrix:\\n\", matrix)\n",
        "print(\"Transposed:\\n\", matrix.T)\n",
        "print(\"Flattened:\", matrix.flatten())"
      ],
      "metadata": {
        "colab": {
          "base_uri": "https://localhost:8080/"
        },
        "id": "RrRSHmUtxT7m",
        "outputId": "8c6b650d-536b-445c-ab73-8dc631223ca3"
      },
      "execution_count": 52,
      "outputs": [
        {
          "output_type": "stream",
          "name": "stdout",
          "text": [
            "Original matrix:\n",
            " [[1 2 3]\n",
            " [4 5 6]]\n",
            "Transposed:\n",
            " [[1 4]\n",
            " [2 5]\n",
            " [3 6]]\n",
            "Flattened: [1 2 3 4 5 6]\n"
          ]
        }
      ]
    },
    {
      "cell_type": "code",
      "source": [],
      "metadata": {
        "id": "Qpacpjo_xyZL"
      },
      "execution_count": null,
      "outputs": []
    }
  ]
}